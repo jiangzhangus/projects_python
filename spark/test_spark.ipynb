{
 "cells": [
  {
   "cell_type": "code",
   "execution_count": null,
   "id": "538aaa40",
   "metadata": {},
   "outputs": [],
   "source": [
    "import os"
   ]
  },
  {
   "cell_type": "code",
   "execution_count": null,
   "id": "b92624d2-8806-444f-ae43-3c23ae5a290f",
   "metadata": {},
   "outputs": [],
   "source": [
    "os.environ[\"JAVA_HOME\"] = \"C:\\\\Program Files\\\\Microsoft\\\\jdk-11.0.22.7-hotspot\"\n",
    "os.environ[\"SPARK_HOME\"] = \"C:\\\\tools\\\\spark\"\n",
    "os.environ[\"HADOOP_HOME\"] = \"C:\\\\tools\\\\spark\"\n",
    "import sys\n",
    "os.environ[\"PYSPARK_DRIVER_PYTHON\"] = sys.executable\n",
    "os.environ[\"PYSPARK_PYTHON\"] = sys.executable\n",
    "\n",
    "# os.environ[\"PYSPARK_DRIVER_PYTHON\"] = \"jupyter\"\n",
    "# os.environ[\"PYSPARK_DRIVER_PYTHON_OPTS\"] = \"notebook\"\n",
    "# os.environ[\"PYSPARK_PYTHON\"] = \"python\"\n",
    "#os.environ[\"PYSPARK_ALLOW_INSECURE_GATEWAY\"] = '1'\n",
    "#os.environ[\"PYDEVD_DISABLE_FILE_VALIDATION\"] = '1'\n",
    "os.environ['PYSPARK_SUBMIT_ARGS'] = 'pyspark-shell'"
   ]
  },
  {
   "cell_type": "code",
   "execution_count": null,
   "id": "52a6f64c-e6fe-450f-92df-b06076e1f611",
   "metadata": {},
   "outputs": [],
   "source": [
    "from pyspark.sql import SparkSession\n",
    "#spark = SparkSession.builder.master(\"local[*]\").appName(\"JiangSparkSQL\").getOrCreate()\n",
    "spark = SparkSession.builder.appName(\"JiangSparkSQL\").getOrCreate()"
   ]
  },
  {
   "cell_type": "code",
   "execution_count": null,
   "id": "781b231c",
   "metadata": {},
   "outputs": [],
   "source": [
    "data = [(\"Alice\", 25), (\"Bob\", 30), (\"Charlie\", 35)]\n",
    "df = spark.createDataFrame(data, [\"Name\", \"Age\"])\n",
    "#df.printSchema()"
   ]
  },
  {
   "cell_type": "code",
   "execution_count": null,
   "id": "93870931",
   "metadata": {},
   "outputs": [],
   "source": [
    "# df.count()\n",
    "# df.head(10)\n",
    "df.show(3)"
   ]
  },
  {
   "cell_type": "code",
   "execution_count": null,
   "id": "64a246ee-4ac3-49fe-a496-8f008ad834ae",
   "metadata": {},
   "outputs": [],
   "source": [
    "sc = spark.sparkContext\n",
    "sc"
   ]
  },
  {
   "cell_type": "code",
   "execution_count": null,
   "id": "eb109e23-c388-41bb-aaa9-4819bafe0337",
   "metadata": {},
   "outputs": [],
   "source": [
    "sc.stop()\n",
    "# df.stop()"
   ]
  }
 ],
 "metadata": {
  "kernelspec": {
   "display_name": "Python 3 (ipykernel)",
   "language": "python",
   "name": "python3"
  },
  "language_info": {
   "codemirror_mode": {
    "name": "ipython",
    "version": 3
   },
   "file_extension": ".py",
   "mimetype": "text/x-python",
   "name": "python",
   "nbconvert_exporter": "python",
   "pygments_lexer": "ipython3",
   "version": "3.11.8"
  }
 },
 "nbformat": 4,
 "nbformat_minor": 5
}
